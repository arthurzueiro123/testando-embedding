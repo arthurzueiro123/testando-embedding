{
 "cells": [
  {
   "cell_type": "code",
   "execution_count": 1,
   "metadata": {
    "id": "Aw_-J1PGZR-y"
   },
   "outputs": [],
   "source": [
    "import gzip\n",
    "import gensim \n",
    "import logging\n",
    "\n",
    "logging.basicConfig(format='%(asctime)s : %(levelname)s : %(message)s', level=logging.INFO)"
   ]
  },
  {
   "cell_type": "code",
   "execution_count": 2,
   "metadata": {
    "id": "Ee6N4bOLgl9Y"
   },
   "outputs": [
    {
     "name": "stderr",
     "output_type": "stream",
     "text": [
      "2022-10-24 00:10:39,976 : INFO : NumExpr defaulting to 4 threads.\n"
     ]
    }
   ],
   "source": [
    "import pandas as pd\n",
    "# import numpy as np"
   ]
  },
  {
   "cell_type": "code",
   "execution_count": 3,
   "metadata": {
    "colab": {
     "base_uri": "https://localhost:8080/",
     "height": 641
    },
    "id": "XkrGdyIWeDBq",
    "outputId": "1f1c5710-354c-4259-8884-f152f89c83b0"
   },
   "outputs": [
    {
     "data": {
      "text/html": [
       "<div>\n",
       "<style scoped>\n",
       "    .dataframe tbody tr th:only-of-type {\n",
       "        vertical-align: middle;\n",
       "    }\n",
       "\n",
       "    .dataframe tbody tr th {\n",
       "        vertical-align: top;\n",
       "    }\n",
       "\n",
       "    .dataframe thead th {\n",
       "        text-align: right;\n",
       "    }\n",
       "</style>\n",
       "<table border=\"1\" class=\"dataframe\">\n",
       "  <thead>\n",
       "    <tr style=\"text-align: right;\">\n",
       "      <th></th>\n",
       "      <th>text_id</th>\n",
       "      <th>full_text</th>\n",
       "      <th>cohesion</th>\n",
       "      <th>syntax</th>\n",
       "      <th>vocabulary</th>\n",
       "      <th>phraseology</th>\n",
       "      <th>grammar</th>\n",
       "      <th>conventions</th>\n",
       "    </tr>\n",
       "  </thead>\n",
       "  <tbody>\n",
       "    <tr>\n",
       "      <th>0</th>\n",
       "      <td>0016926B079C</td>\n",
       "      <td>I think that students would benefit from learn...</td>\n",
       "      <td>3.5</td>\n",
       "      <td>3.5</td>\n",
       "      <td>3.0</td>\n",
       "      <td>3.0</td>\n",
       "      <td>4.0</td>\n",
       "      <td>3.0</td>\n",
       "    </tr>\n",
       "    <tr>\n",
       "      <th>1</th>\n",
       "      <td>0022683E9EA5</td>\n",
       "      <td>When a problem is a change you have to let it ...</td>\n",
       "      <td>2.5</td>\n",
       "      <td>2.5</td>\n",
       "      <td>3.0</td>\n",
       "      <td>2.0</td>\n",
       "      <td>2.0</td>\n",
       "      <td>2.5</td>\n",
       "    </tr>\n",
       "    <tr>\n",
       "      <th>2</th>\n",
       "      <td>00299B378633</td>\n",
       "      <td>Dear, Principal\\n\\nIf u change the school poli...</td>\n",
       "      <td>3.0</td>\n",
       "      <td>3.5</td>\n",
       "      <td>3.0</td>\n",
       "      <td>3.0</td>\n",
       "      <td>3.0</td>\n",
       "      <td>2.5</td>\n",
       "    </tr>\n",
       "    <tr>\n",
       "      <th>3</th>\n",
       "      <td>003885A45F42</td>\n",
       "      <td>The best time in life is when you become yours...</td>\n",
       "      <td>4.5</td>\n",
       "      <td>4.5</td>\n",
       "      <td>4.5</td>\n",
       "      <td>4.5</td>\n",
       "      <td>4.0</td>\n",
       "      <td>5.0</td>\n",
       "    </tr>\n",
       "    <tr>\n",
       "      <th>4</th>\n",
       "      <td>0049B1DF5CCC</td>\n",
       "      <td>Small act of kindness can impact in other peop...</td>\n",
       "      <td>2.5</td>\n",
       "      <td>3.0</td>\n",
       "      <td>3.0</td>\n",
       "      <td>3.0</td>\n",
       "      <td>2.5</td>\n",
       "      <td>2.5</td>\n",
       "    </tr>\n",
       "    <tr>\n",
       "      <th>...</th>\n",
       "      <td>...</td>\n",
       "      <td>...</td>\n",
       "      <td>...</td>\n",
       "      <td>...</td>\n",
       "      <td>...</td>\n",
       "      <td>...</td>\n",
       "      <td>...</td>\n",
       "      <td>...</td>\n",
       "    </tr>\n",
       "    <tr>\n",
       "      <th>3906</th>\n",
       "      <td>FFD29828A873</td>\n",
       "      <td>I believe using cellphones in class for educat...</td>\n",
       "      <td>2.5</td>\n",
       "      <td>3.0</td>\n",
       "      <td>3.0</td>\n",
       "      <td>3.5</td>\n",
       "      <td>2.5</td>\n",
       "      <td>2.5</td>\n",
       "    </tr>\n",
       "    <tr>\n",
       "      <th>3907</th>\n",
       "      <td>FFD9A83B0849</td>\n",
       "      <td>Working alone, students do not have to argue w...</td>\n",
       "      <td>4.0</td>\n",
       "      <td>4.0</td>\n",
       "      <td>4.0</td>\n",
       "      <td>4.0</td>\n",
       "      <td>3.5</td>\n",
       "      <td>3.0</td>\n",
       "    </tr>\n",
       "    <tr>\n",
       "      <th>3908</th>\n",
       "      <td>FFDC4011AC9C</td>\n",
       "      <td>\"A problem is a chance for you to do your best...</td>\n",
       "      <td>2.5</td>\n",
       "      <td>3.0</td>\n",
       "      <td>3.0</td>\n",
       "      <td>3.0</td>\n",
       "      <td>3.5</td>\n",
       "      <td>3.0</td>\n",
       "    </tr>\n",
       "    <tr>\n",
       "      <th>3909</th>\n",
       "      <td>FFE16D704B16</td>\n",
       "      <td>Many people disagree with Albert Schweitzer's ...</td>\n",
       "      <td>4.0</td>\n",
       "      <td>4.5</td>\n",
       "      <td>4.5</td>\n",
       "      <td>4.0</td>\n",
       "      <td>4.5</td>\n",
       "      <td>4.5</td>\n",
       "    </tr>\n",
       "    <tr>\n",
       "      <th>3910</th>\n",
       "      <td>FFED00D6E0BD</td>\n",
       "      <td>Do you think that failure is the main thing fo...</td>\n",
       "      <td>3.5</td>\n",
       "      <td>2.5</td>\n",
       "      <td>3.5</td>\n",
       "      <td>3.0</td>\n",
       "      <td>3.0</td>\n",
       "      <td>3.5</td>\n",
       "    </tr>\n",
       "  </tbody>\n",
       "</table>\n",
       "<p>3911 rows × 8 columns</p>\n",
       "</div>"
      ],
      "text/plain": [
       "           text_id                                          full_text  \\\n",
       "0     0016926B079C  I think that students would benefit from learn...   \n",
       "1     0022683E9EA5  When a problem is a change you have to let it ...   \n",
       "2     00299B378633  Dear, Principal\\n\\nIf u change the school poli...   \n",
       "3     003885A45F42  The best time in life is when you become yours...   \n",
       "4     0049B1DF5CCC  Small act of kindness can impact in other peop...   \n",
       "...            ...                                                ...   \n",
       "3906  FFD29828A873  I believe using cellphones in class for educat...   \n",
       "3907  FFD9A83B0849  Working alone, students do not have to argue w...   \n",
       "3908  FFDC4011AC9C  \"A problem is a chance for you to do your best...   \n",
       "3909  FFE16D704B16  Many people disagree with Albert Schweitzer's ...   \n",
       "3910  FFED00D6E0BD  Do you think that failure is the main thing fo...   \n",
       "\n",
       "      cohesion  syntax  vocabulary  phraseology  grammar  conventions  \n",
       "0          3.5     3.5         3.0          3.0      4.0          3.0  \n",
       "1          2.5     2.5         3.0          2.0      2.0          2.5  \n",
       "2          3.0     3.5         3.0          3.0      3.0          2.5  \n",
       "3          4.5     4.5         4.5          4.5      4.0          5.0  \n",
       "4          2.5     3.0         3.0          3.0      2.5          2.5  \n",
       "...        ...     ...         ...          ...      ...          ...  \n",
       "3906       2.5     3.0         3.0          3.5      2.5          2.5  \n",
       "3907       4.0     4.0         4.0          4.0      3.5          3.0  \n",
       "3908       2.5     3.0         3.0          3.0      3.5          3.0  \n",
       "3909       4.0     4.5         4.5          4.0      4.5          4.5  \n",
       "3910       3.5     2.5         3.5          3.0      3.0          3.5  \n",
       "\n",
       "[3911 rows x 8 columns]"
      ]
     },
     "execution_count": 3,
     "metadata": {},
     "output_type": "execute_result"
    }
   ],
   "source": [
    "df_train=pd.read_csv(\"data/train.csv\") \n",
    "df_essays=pd.DataFrame(df_train[\"full_text\"])\n",
    "df_test=pd.read_csv(\"data/test.csv\")   \n",
    "y=df_train.drop([\"text_id\",\"full_text\"],axis=1)  \n",
    "essays=df_essays[\"full_text\"]\n",
    "essays=list(essays) \n",
    "#essays=\" \".join(essays)  \n",
    "#essays=('''\"\"\"''') +essays + ('''\"\"\"''')   \n",
    "target_names=list(y)\n",
    "df_train"
   ]
  },
  {
   "cell_type": "code",
   "execution_count": 4,
   "metadata": {
    "colab": {
     "base_uri": "https://localhost:8080/"
    },
    "id": "Y87zAedRgznF",
    "outputId": "3f5131ac-fd8b-42f6-fa2c-137eed788610"
   },
   "outputs": [
    {
     "data": {
      "text/plain": [
       "3911"
      ]
     },
     "execution_count": 4,
     "metadata": {},
     "output_type": "execute_result"
    }
   ],
   "source": [
    "len(essays)"
   ]
  },
  {
   "cell_type": "code",
   "execution_count": 5,
   "metadata": {
    "colab": {
     "base_uri": "https://localhost:8080/",
     "height": 174
    },
    "id": "6B6Vjemfkcdi",
    "outputId": "a884cd83-662e-4cd8-82ca-2872d1267f9e"
   },
   "outputs": [
    {
     "data": {
      "text/plain": [
       "\"I think that students would benefit from learning at home,because they wont have to change and get up early in the morning to shower and do there hair. taking only classes helps them because at there house they'll be pay more attention. they will be comfortable at home.\\n\\nThe hardest part of school is getting ready. you wake up go brush your teeth and go to your closet and look at your cloths. after you think you picked a outfit u go look in the mirror and youll either not like it or you look and see a stain. Then you'll have to change. with the online classes you can wear anything and stay home and you wont need to stress about what to wear.\\n\\nmost students usually take showers before school. they either take it before they sleep or when they wake up. some students do both to smell good. that causes them do miss the bus and effects on there lesson time cause they come late to school. when u have online classes u wont need to miss lessons cause you can get everything set up and go take a shower and when u get out your ready to go.\\n\\nwhen your home your comfortable and you pay attention. it gives then an advantage to be smarter and even pass there classmates on class work. public schools are difficult even if you try. some teacher dont know how to teach it in then way that students understand it. that causes students to fail and they may repeat the class.              \""
      ]
     },
     "execution_count": 5,
     "metadata": {},
     "output_type": "execute_result"
    }
   ],
   "source": [
    "essays[0]"
   ]
  },
  {
   "cell_type": "code",
   "execution_count": 6,
   "metadata": {
    "id": "CfbxXh7NZTYV"
   },
   "outputs": [],
   "source": [
    "# pre processa o texto\n",
    "# gensim.utils.simple_preprocess (line)\n",
    "PreprosEssay = list()\n",
    "for i, essay in enumerate (essays):\n",
    "  PreprosEssay.append(gensim.utils.simple_preprocess (essay))"
   ]
  },
  {
   "cell_type": "code",
   "execution_count": 7,
   "metadata": {
    "colab": {
     "base_uri": "https://localhost:8080/"
    },
    "id": "qm4FrQZnmDGH",
    "outputId": "459eded0-6093-44d8-9c8e-d30ee1993018"
   },
   "outputs": [
    {
     "data": {
      "text/plain": [
       "3911"
      ]
     },
     "execution_count": 7,
     "metadata": {},
     "output_type": "execute_result"
    }
   ],
   "source": [
    "#PreprosEssay[1]\n",
    "len(PreprosEssay)"
   ]
  },
  {
   "cell_type": "markdown",
   "metadata": {},
   "source": [
    "# testando Word2Vec"
   ]
  },
  {
   "cell_type": "code",
   "execution_count": 8,
   "metadata": {
    "colab": {
     "base_uri": "https://localhost:8080/"
    },
    "id": "0GcoWm5oZTZl",
    "outputId": "526e7dde-83d8-4cdf-f606-ad6e01fd0a56"
   },
   "outputs": [],
   "source": [
    "# #model = gensim.models.Word2Vec (documents, size=150, window=10, min_count=2, workers=10)\n",
    "# #model.train(documents,total_examples=len(documents),epochs=10)\n",
    "\n",
    "# model = gensim.models.Word2Vec (PreprosEssay, size=150, window=10, min_count=2, workers=10)\n",
    "# model.train(PreprosEssay,total_examples=len(PreprosEssay),epochs=10)"
   ]
  },
  {
   "cell_type": "code",
   "execution_count": 9,
   "metadata": {
    "colab": {
     "base_uri": "https://localhost:8080/"
    },
    "id": "1wZYC8uBnLOl",
    "outputId": "50eeec31-a07d-42ae-b370-1a4a6a97a8d6"
   },
   "outputs": [],
   "source": [
    "# dir(model)\n",
    "# # model.cum_table\n",
    "# #for word in PreprosEssay[1]:\n",
    "# for word in PreprosEssay[1][:5]:\n",
    "#   print(word, model[word])"
   ]
  },
  {
   "cell_type": "code",
   "execution_count": 10,
   "metadata": {
    "id": "8RnaKASOZTgC"
   },
   "outputs": [],
   "source": [
    "# w1 = \"dirty\"\n",
    "# model.wv.most_similar (positive=w1)#buscando as palavras mais similares\n",
    "\n",
    "# model.wv.most_similar (positive=w1,topn=6)#tras os 6 valores mais proximos"
   ]
  },
  {
   "cell_type": "markdown",
   "metadata": {
    "id": "w171QDEDfAdm"
   },
   "source": [
    "# testando Doc2Vec"
   ]
  },
  {
   "cell_type": "code",
   "execution_count": 11,
   "metadata": {
    "colab": {
     "base_uri": "https://localhost:8080/"
    },
    "id": "QQPqO4fRd3u4",
    "outputId": "d4c0536a-67f6-478f-f5b4-045b21045681"
   },
   "outputs": [
    {
     "name": "stderr",
     "output_type": "stream",
     "text": [
      "2022-10-24 00:10:53,211 : INFO : adding document #0 to Dictionary(0 unique tokens: [])\n",
      "2022-10-24 00:10:53,212 : INFO : built Dictionary(12 unique tokens: ['computer', 'human', 'interface', 'response', 'survey']...) from 9 documents (total 29 corpus positions)\n",
      "2022-10-24 00:10:53,213 : INFO : Dictionary lifecycle event {'msg': \"built Dictionary(12 unique tokens: ['computer', 'human', 'interface', 'response', 'survey']...) from 9 documents (total 29 corpus positions)\", 'datetime': '2022-10-24T00:10:53.213834', 'gensim': '4.1.2', 'python': '3.9.12 (main, Apr  4 2022, 05:22:27) [MSC v.1916 64 bit (AMD64)]', 'platform': 'Windows-10-10.0.18363-SP0', 'event': 'created'}\n",
      "2022-10-24 00:10:53,403 : INFO : collecting all words and their counts\n",
      "2022-10-24 00:10:53,404 : INFO : PROGRESS: at example #0, processed 0 words (0/s), 0 word types, 0 tags\n",
      "2022-10-24 00:10:53,809 : INFO : collected 21111 word types and 3911 unique tags from a corpus of 3911 examples and 1621825 words\n",
      "2022-10-24 00:10:53,810 : INFO : Creating a fresh vocabulary\n",
      "2022-10-24 00:10:53,940 : INFO : Doc2Vec lifecycle event {'msg': 'effective_min_count=1 retains 21111 unique words (100.0%% of original 21111, drops 0)', 'datetime': '2022-10-24T00:10:53.940198', 'gensim': '4.1.2', 'python': '3.9.12 (main, Apr  4 2022, 05:22:27) [MSC v.1916 64 bit (AMD64)]', 'platform': 'Windows-10-10.0.18363-SP0', 'event': 'prepare_vocab'}\n",
      "2022-10-24 00:10:53,940 : INFO : Doc2Vec lifecycle event {'msg': 'effective_min_count=1 leaves 1621825 word corpus (100.0%% of original 1621825, drops 0)', 'datetime': '2022-10-24T00:10:53.940198', 'gensim': '4.1.2', 'python': '3.9.12 (main, Apr  4 2022, 05:22:27) [MSC v.1916 64 bit (AMD64)]', 'platform': 'Windows-10-10.0.18363-SP0', 'event': 'prepare_vocab'}\n",
      "2022-10-24 00:10:54,132 : INFO : deleting the raw counts dictionary of 21111 items\n",
      "2022-10-24 00:10:54,134 : INFO : sample=0.001 downsamples 74 most-common words\n",
      "2022-10-24 00:10:54,135 : INFO : Doc2Vec lifecycle event {'msg': 'downsampling leaves estimated 1124230.403087657 word corpus (69.3%% of prior 1621825)', 'datetime': '2022-10-24T00:10:54.135205', 'gensim': '4.1.2', 'python': '3.9.12 (main, Apr  4 2022, 05:22:27) [MSC v.1916 64 bit (AMD64)]', 'platform': 'Windows-10-10.0.18363-SP0', 'event': 'prepare_vocab'}\n",
      "2022-10-24 00:10:54,454 : INFO : estimated required memory for 21111 words and 5 dimensions: 12260360 bytes\n",
      "2022-10-24 00:10:54,456 : INFO : resetting layer weights\n",
      "2022-10-24 00:10:54,459 : INFO : Doc2Vec lifecycle event {'msg': 'training model with 4 workers on 21111 vocabulary and 5 features, using sg=0 hs=0 sample=0.001 negative=5 window=2 shrink_windows=True', 'datetime': '2022-10-24T00:10:54.459448', 'gensim': '4.1.2', 'python': '3.9.12 (main, Apr  4 2022, 05:22:27) [MSC v.1916 64 bit (AMD64)]', 'platform': 'Windows-10-10.0.18363-SP0', 'event': 'train'}\n",
      "2022-10-24 00:10:55,466 : INFO : EPOCH 1 - PROGRESS: at 74.46% examples, 840238 words/s, in_qsize 7, out_qsize 0\n",
      "2022-10-24 00:10:55,785 : INFO : worker thread finished; awaiting finish of 3 more threads\n",
      "2022-10-24 00:10:55,787 : INFO : worker thread finished; awaiting finish of 2 more threads\n",
      "2022-10-24 00:10:55,800 : INFO : worker thread finished; awaiting finish of 1 more threads\n",
      "2022-10-24 00:10:55,801 : INFO : worker thread finished; awaiting finish of 0 more threads\n",
      "2022-10-24 00:10:55,804 : INFO : EPOCH - 1 : training on 1621825 raw words (1128124 effective words) took 1.3s, 842032 effective words/s\n",
      "2022-10-24 00:10:56,840 : INFO : EPOCH 2 - PROGRESS: at 60.06% examples, 663712 words/s, in_qsize 8, out_qsize 0\n",
      "2022-10-24 00:10:57,441 : INFO : worker thread finished; awaiting finish of 3 more threads\n",
      "2022-10-24 00:10:57,454 : INFO : worker thread finished; awaiting finish of 2 more threads\n",
      "2022-10-24 00:10:57,460 : INFO : worker thread finished; awaiting finish of 1 more threads\n",
      "2022-10-24 00:10:57,463 : INFO : worker thread finished; awaiting finish of 0 more threads\n",
      "2022-10-24 00:10:57,465 : INFO : EPOCH - 2 : training on 1621825 raw words (1128215 effective words) took 1.6s, 684637 effective words/s\n",
      "2022-10-24 00:10:58,476 : INFO : EPOCH 3 - PROGRESS: at 61.34% examples, 691637 words/s, in_qsize 7, out_qsize 0\n",
      "2022-10-24 00:10:59,125 : INFO : worker thread finished; awaiting finish of 3 more threads\n",
      "2022-10-24 00:10:59,139 : INFO : worker thread finished; awaiting finish of 2 more threads\n",
      "2022-10-24 00:10:59,144 : INFO : worker thread finished; awaiting finish of 1 more threads\n",
      "2022-10-24 00:10:59,150 : INFO : worker thread finished; awaiting finish of 0 more threads\n",
      "2022-10-24 00:10:59,151 : INFO : EPOCH - 3 : training on 1621825 raw words (1128530 effective words) took 1.7s, 673206 effective words/s\n",
      "2022-10-24 00:11:00,170 : INFO : EPOCH 4 - PROGRESS: at 57.84% examples, 645214 words/s, in_qsize 7, out_qsize 0\n",
      "2022-10-24 00:11:00,893 : INFO : worker thread finished; awaiting finish of 3 more threads\n",
      "2022-10-24 00:11:00,911 : INFO : worker thread finished; awaiting finish of 2 more threads\n",
      "2022-10-24 00:11:00,914 : INFO : worker thread finished; awaiting finish of 1 more threads\n",
      "2022-10-24 00:11:00,917 : INFO : worker thread finished; awaiting finish of 0 more threads\n",
      "2022-10-24 00:11:00,919 : INFO : EPOCH - 4 : training on 1621825 raw words (1129099 effective words) took 1.8s, 641948 effective words/s\n",
      "2022-10-24 00:11:01,941 : INFO : EPOCH 5 - PROGRESS: at 57.27% examples, 638939 words/s, in_qsize 7, out_qsize 0\n",
      "2022-10-24 00:11:02,591 : INFO : worker thread finished; awaiting finish of 3 more threads\n",
      "2022-10-24 00:11:02,594 : INFO : worker thread finished; awaiting finish of 2 more threads\n",
      "2022-10-24 00:11:02,602 : INFO : worker thread finished; awaiting finish of 1 more threads\n",
      "2022-10-24 00:11:02,613 : INFO : worker thread finished; awaiting finish of 0 more threads\n",
      "2022-10-24 00:11:02,614 : INFO : EPOCH - 5 : training on 1621825 raw words (1128047 effective words) took 1.7s, 670991 effective words/s\n",
      "2022-10-24 00:11:03,632 : INFO : EPOCH 6 - PROGRESS: at 62.49% examples, 697892 words/s, in_qsize 7, out_qsize 0\n",
      "2022-10-24 00:11:04,171 : INFO : worker thread finished; awaiting finish of 3 more threads\n",
      "2022-10-24 00:11:04,181 : INFO : worker thread finished; awaiting finish of 2 more threads\n",
      "2022-10-24 00:11:04,188 : INFO : worker thread finished; awaiting finish of 1 more threads\n",
      "2022-10-24 00:11:04,195 : INFO : worker thread finished; awaiting finish of 0 more threads\n",
      "2022-10-24 00:11:04,197 : INFO : EPOCH - 6 : training on 1621825 raw words (1128567 effective words) took 1.6s, 715584 effective words/s\n",
      "2022-10-24 00:11:05,208 : INFO : EPOCH 7 - PROGRESS: at 68.58% examples, 771090 words/s, in_qsize 7, out_qsize 0\n",
      "2022-10-24 00:11:05,586 : INFO : worker thread finished; awaiting finish of 3 more threads\n",
      "2022-10-24 00:11:05,596 : INFO : worker thread finished; awaiting finish of 2 more threads\n",
      "2022-10-24 00:11:05,599 : INFO : worker thread finished; awaiting finish of 1 more threads\n",
      "2022-10-24 00:11:05,602 : INFO : worker thread finished; awaiting finish of 0 more threads\n",
      "2022-10-24 00:11:05,604 : INFO : EPOCH - 7 : training on 1621825 raw words (1128027 effective words) took 1.4s, 806168 effective words/s\n",
      "2022-10-24 00:11:06,623 : INFO : EPOCH 8 - PROGRESS: at 78.09% examples, 872643 words/s, in_qsize 7, out_qsize 0\n",
      "2022-10-24 00:11:06,877 : INFO : worker thread finished; awaiting finish of 3 more threads\n",
      "2022-10-24 00:11:06,880 : INFO : worker thread finished; awaiting finish of 2 more threads\n",
      "2022-10-24 00:11:06,889 : INFO : worker thread finished; awaiting finish of 1 more threads\n",
      "2022-10-24 00:11:06,892 : INFO : worker thread finished; awaiting finish of 0 more threads\n",
      "2022-10-24 00:11:06,893 : INFO : EPOCH - 8 : training on 1621825 raw words (1128324 effective words) took 1.3s, 880569 effective words/s\n",
      "2022-10-24 00:11:07,910 : INFO : EPOCH 9 - PROGRESS: at 73.25% examples, 821357 words/s, in_qsize 7, out_qsize 0\n",
      "2022-10-24 00:11:08,250 : INFO : worker thread finished; awaiting finish of 3 more threads\n",
      "2022-10-24 00:11:08,255 : INFO : worker thread finished; awaiting finish of 2 more threads\n",
      "2022-10-24 00:11:08,259 : INFO : worker thread finished; awaiting finish of 1 more threads\n",
      "2022-10-24 00:11:08,262 : INFO : worker thread finished; awaiting finish of 0 more threads\n"
     ]
    },
    {
     "name": "stderr",
     "output_type": "stream",
     "text": [
      "2022-10-24 00:11:08,263 : INFO : EPOCH - 9 : training on 1621825 raw words (1128855 effective words) took 1.4s, 829269 effective words/s\n",
      "2022-10-24 00:11:09,271 : INFO : EPOCH 10 - PROGRESS: at 77.45% examples, 873829 words/s, in_qsize 8, out_qsize 0\n",
      "2022-10-24 00:11:09,531 : INFO : worker thread finished; awaiting finish of 3 more threads\n",
      "2022-10-24 00:11:09,549 : INFO : worker thread finished; awaiting finish of 2 more threads\n",
      "2022-10-24 00:11:09,552 : INFO : worker thread finished; awaiting finish of 1 more threads\n",
      "2022-10-24 00:11:09,555 : INFO : worker thread finished; awaiting finish of 0 more threads\n",
      "2022-10-24 00:11:09,557 : INFO : EPOCH - 10 : training on 1621825 raw words (1128735 effective words) took 1.3s, 876242 effective words/s\n",
      "2022-10-24 00:11:09,558 : INFO : Doc2Vec lifecycle event {'msg': 'training on 16218250 raw words (11284523 effective words) took 15.1s, 747424 effective words/s', 'datetime': '2022-10-24T00:11:09.558992', 'gensim': '4.1.2', 'python': '3.9.12 (main, Apr  4 2022, 05:22:27) [MSC v.1916 64 bit (AMD64)]', 'platform': 'Windows-10-10.0.18363-SP0', 'event': 'train'}\n",
      "2022-10-24 00:11:09,561 : INFO : Doc2Vec lifecycle event {'params': 'Doc2Vec(dm/m,d5,n5,w2,s0.001,t4)', 'datetime': '2022-10-24T00:11:09.561005', 'gensim': '4.1.2', 'python': '3.9.12 (main, Apr  4 2022, 05:22:27) [MSC v.1916 64 bit (AMD64)]', 'platform': 'Windows-10-10.0.18363-SP0', 'event': 'created'}\n"
     ]
    }
   ],
   "source": [
    "from gensim.test.utils import common_texts\n",
    "from gensim.models.doc2vec import Doc2Vec, TaggedDocument\n",
    "\n",
    "documents = [TaggedDocument(doc, [i]) for i, doc in enumerate(PreprosEssay)]\n",
    "model = Doc2Vec(documents, vector_size=5, window=2, min_count=1, workers=4)"
   ]
  },
  {
   "cell_type": "code",
   "execution_count": 12,
   "metadata": {},
   "outputs": [],
   "source": [
    "# from gensim.test.utils import common_texts\n",
    "# from gensim.models.doc2vec import Doc2Vec, TaggedDocument\n",
    "\n",
    "\n",
    "# halfEssays = np.array_split(PreprosEssay,2) #testando so com parte dos valores das essays\n",
    "\n",
    "# documents = [TaggedDocument(doc, [i]) for i, doc in enumerate(halfEssays[0])]\n",
    "# model = Doc2Vec(documents, vector_size=5, window=2, min_count=1, workers=4)"
   ]
  },
  {
   "cell_type": "code",
   "execution_count": 13,
   "metadata": {},
   "outputs": [],
   "source": [
    "# len(halfEssays[0])"
   ]
  },
  {
   "cell_type": "code",
   "execution_count": 14,
   "metadata": {
    "colab": {
     "base_uri": "https://localhost:8080/"
    },
    "id": "R4c4VQOhWnXM",
    "outputId": "2ab36152-89c0-42d4-e98b-e43f15f470e7"
   },
   "outputs": [],
   "source": [
    "# documents[0]"
   ]
  },
  {
   "cell_type": "code",
   "execution_count": 15,
   "metadata": {
    "colab": {
     "base_uri": "https://localhost:8080/"
    },
    "id": "hku2pslcetf1",
    "outputId": "a86a1efa-cf7c-4f12-8f65-a711b84f7fcb"
   },
   "outputs": [],
   "source": [
    "# dir(model)"
   ]
  },
  {
   "cell_type": "code",
   "execution_count": 16,
   "metadata": {
    "colab": {
     "base_uri": "https://localhost:8080/"
    },
    "id": "MJ2pEmo5WMr8",
    "outputId": "1114c056-af48-4116-dc22-12f52e9501c7"
   },
   "outputs": [
    {
     "name": "stderr",
     "output_type": "stream",
     "text": [
      "C:\\Users\\arthur\\AppData\\Local\\Temp\\ipykernel_13812\\3726138103.py:1: DeprecationWarning: Call to deprecated `docvecs` (The `docvecs` property has been renamed `dv`.).\n",
      "  model.docvecs[0] # posição do documento\n"
     ]
    },
    {
     "data": {
      "text/plain": [
       "array([-0.37849298,  0.36131036,  1.7935017 , -0.31978223, -0.85019755],\n",
       "      dtype=float32)"
      ]
     },
     "execution_count": 16,
     "metadata": {},
     "output_type": "execute_result"
    }
   ],
   "source": [
    "model.docvecs[0] # posição do documento"
   ]
  },
  {
   "cell_type": "code",
   "execution_count": 17,
   "metadata": {},
   "outputs": [],
   "source": [
    "# dir(model)"
   ]
  },
  {
   "cell_type": "code",
   "execution_count": 18,
   "metadata": {},
   "outputs": [],
   "source": [
    "# dir(model.scan_vocab)"
   ]
  },
  {
   "attachments": {
    "image.png": {
     "image/png": "[encoded data removed]"
    }
   },
   "cell_type": "markdown",
   "metadata": {},
   "source": [
    "![image.png](attachment:image.png)"
   ]
  },
  {
   "cell_type": "markdown",
   "metadata": {},
   "source": [
    "porque os resultados de documentos identicos geram representações vetoriais diferentes ?\n",
    "resposta: https://stackoverflow.com/questions/50408740/gensim-doc2vec-im-gettting-different-vectors-from-documents-that-are-identical"
   ]
  },
  {
   "cell_type": "code",
   "execution_count": 19,
   "metadata": {},
   "outputs": [
    {
     "data": {
      "text/plain": [
       "array([-0.02243813,  0.01533613,  0.01339904,  0.04386268, -0.30353817],\n",
       "      dtype=float32)"
      ]
     },
     "execution_count": 19,
     "metadata": {},
     "output_type": "execute_result"
    }
   ],
   "source": [
    "model.infer_vector(\"this is the end\".split())# extraindo representação vetorial dos modelos"
   ]
  },
  {
   "cell_type": "code",
   "execution_count": 25,
   "metadata": {},
   "outputs": [
    {
     "data": {
      "text/plain": [
       "array([-0.7574953 ,  0.15931675,  2.1944063 , -0.5147498 , -0.92636675],\n",
       "      dtype=float32)"
      ]
     },
     "execution_count": 25,
     "metadata": {},
     "output_type": "execute_result"
    }
   ],
   "source": [
    "model.infer_vector(PreprosEssay[0])"
   ]
  },
  {
   "cell_type": "code",
   "execution_count": 59,
   "metadata": {},
   "outputs": [
    {
     "data": {
      "text/html": [
       "<div>\n",
       "<style scoped>\n",
       "    .dataframe tbody tr th:only-of-type {\n",
       "        vertical-align: middle;\n",
       "    }\n",
       "\n",
       "    .dataframe tbody tr th {\n",
       "        vertical-align: top;\n",
       "    }\n",
       "\n",
       "    .dataframe thead th {\n",
       "        text-align: right;\n",
       "    }\n",
       "</style>\n",
       "<table border=\"1\" class=\"dataframe\">\n",
       "  <thead>\n",
       "    <tr style=\"text-align: right;\">\n",
       "      <th></th>\n",
       "      <th>EmbDoc1</th>\n",
       "      <th>EmbDoc2</th>\n",
       "      <th>EmbDoc3</th>\n",
       "      <th>EmbDoc4</th>\n",
       "      <th>EmbDoc5</th>\n",
       "    </tr>\n",
       "  </thead>\n",
       "  <tbody>\n",
       "    <tr>\n",
       "      <th>0</th>\n",
       "      <td>-0.378493</td>\n",
       "      <td>0.361310</td>\n",
       "      <td>1.793502</td>\n",
       "      <td>-0.319782</td>\n",
       "      <td>-0.850198</td>\n",
       "    </tr>\n",
       "    <tr>\n",
       "      <th>1</th>\n",
       "      <td>0.068057</td>\n",
       "      <td>1.106867</td>\n",
       "      <td>-0.153712</td>\n",
       "      <td>-0.823516</td>\n",
       "      <td>-1.784668</td>\n",
       "    </tr>\n",
       "    <tr>\n",
       "      <th>2</th>\n",
       "      <td>-0.984724</td>\n",
       "      <td>0.166770</td>\n",
       "      <td>1.674314</td>\n",
       "      <td>-0.708702</td>\n",
       "      <td>-0.818998</td>\n",
       "    </tr>\n",
       "    <tr>\n",
       "      <th>3</th>\n",
       "      <td>0.762911</td>\n",
       "      <td>1.347518</td>\n",
       "      <td>-0.571410</td>\n",
       "      <td>-1.322564</td>\n",
       "      <td>-2.055546</td>\n",
       "    </tr>\n",
       "    <tr>\n",
       "      <th>4</th>\n",
       "      <td>0.974610</td>\n",
       "      <td>0.220228</td>\n",
       "      <td>-0.367960</td>\n",
       "      <td>-0.001963</td>\n",
       "      <td>-1.740385</td>\n",
       "    </tr>\n",
       "    <tr>\n",
       "      <th>...</th>\n",
       "      <td>...</td>\n",
       "      <td>...</td>\n",
       "      <td>...</td>\n",
       "      <td>...</td>\n",
       "      <td>...</td>\n",
       "    </tr>\n",
       "    <tr>\n",
       "      <th>3906</th>\n",
       "      <td>-0.610828</td>\n",
       "      <td>-0.773336</td>\n",
       "      <td>0.336453</td>\n",
       "      <td>0.044648</td>\n",
       "      <td>-1.311844</td>\n",
       "    </tr>\n",
       "    <tr>\n",
       "      <th>3907</th>\n",
       "      <td>-0.922011</td>\n",
       "      <td>-1.887279</td>\n",
       "      <td>0.796840</td>\n",
       "      <td>-1.972311</td>\n",
       "      <td>-0.986654</td>\n",
       "    </tr>\n",
       "    <tr>\n",
       "      <th>3908</th>\n",
       "      <td>-1.340563</td>\n",
       "      <td>1.009742</td>\n",
       "      <td>-0.350708</td>\n",
       "      <td>-0.078652</td>\n",
       "      <td>-1.740720</td>\n",
       "    </tr>\n",
       "    <tr>\n",
       "      <th>3909</th>\n",
       "      <td>0.596326</td>\n",
       "      <td>0.041206</td>\n",
       "      <td>-1.647959</td>\n",
       "      <td>-1.225929</td>\n",
       "      <td>-2.136117</td>\n",
       "    </tr>\n",
       "    <tr>\n",
       "      <th>3910</th>\n",
       "      <td>1.583255</td>\n",
       "      <td>1.307711</td>\n",
       "      <td>-0.633678</td>\n",
       "      <td>-1.185466</td>\n",
       "      <td>-1.681509</td>\n",
       "    </tr>\n",
       "  </tbody>\n",
       "</table>\n",
       "<p>3911 rows × 5 columns</p>\n",
       "</div>"
      ],
      "text/plain": [
       "       EmbDoc1   EmbDoc2   EmbDoc3   EmbDoc4   EmbDoc5\n",
       "0    -0.378493  0.361310  1.793502 -0.319782 -0.850198\n",
       "1     0.068057  1.106867 -0.153712 -0.823516 -1.784668\n",
       "2    -0.984724  0.166770  1.674314 -0.708702 -0.818998\n",
       "3     0.762911  1.347518 -0.571410 -1.322564 -2.055546\n",
       "4     0.974610  0.220228 -0.367960 -0.001963 -1.740385\n",
       "...        ...       ...       ...       ...       ...\n",
       "3906 -0.610828 -0.773336  0.336453  0.044648 -1.311844\n",
       "3907 -0.922011 -1.887279  0.796840 -1.972311 -0.986654\n",
       "3908 -1.340563  1.009742 -0.350708 -0.078652 -1.740720\n",
       "3909  0.596326  0.041206 -1.647959 -1.225929 -2.136117\n",
       "3910  1.583255  1.307711 -0.633678 -1.185466 -1.681509\n",
       "\n",
       "[3911 rows x 5 columns]"
      ]
     },
     "execution_count": 59,
     "metadata": {},
     "output_type": "execute_result"
    }
   ],
   "source": [
    "# df_novo = pd.DataFrame(model.docvecs,columns = ['EmbDoc1','EmbDoc2','EmbDoc3','EmbDoc4','EmbDoc5'])\n",
    "#dir(model.docvecs)\n",
    "# for i, doc in enumerate(model.dv):\n",
    "#     print(doc)\n",
    "\n",
    "# df_novo = pd.DataFrame({'EmbDoc1':model.dv[:,0],'EmbDoc2':model.dv[:,1],'EmbDoc3':model.dv[:,2],'EmbDoc4':model.dv[:,3],'EmbDoc5':model.dv[:,4]})\n",
    "#model.dv[0][0]\n",
    "df_novo = pd.DataFrame(columns = ['EmbDoc1','EmbDoc2','EmbDoc3','EmbDoc4','EmbDoc5'])\n",
    "for i in range(model.dv.__len__()):\n",
    "    df_novo.loc[i] = [model.dv[i][0],model.dv[i][1],model.dv[i][2],model.dv[i][3],model.dv[i][4]]\n",
    "    \n",
    "df_novo\n"
   ]
  },
  {
   "cell_type": "code",
   "execution_count": null,
   "metadata": {},
   "outputs": [],
   "source": []
  }
 ],
 "metadata": {
  "colab": {
   "provenance": []
  },
  "kernelspec": {
   "display_name": "Python 3 (ipykernel)",
   "language": "python",
   "name": "python3"
  },
  "language_info": {
   "codemirror_mode": {
    "name": "ipython",
    "version": 3
   },
   "file_extension": ".py",
   "mimetype": "text/x-python",
   "name": "python",
   "nbconvert_exporter": "python",
   "pygments_lexer": "ipython3",
   "version": "3.9.12"
  }
 },
 "nbformat": 4,
 "nbformat_minor": 1
}
